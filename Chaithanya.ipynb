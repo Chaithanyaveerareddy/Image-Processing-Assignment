{
 "cells": [
  {
   "cell_type": "markdown",
   "metadata": {},
   "source": [
    "# Assignment_ImageProcessing_Chaithanya"
   ]
  },
  {
   "cell_type": "markdown",
   "metadata": {},
   "source": [
    "# EQUALIZE_HIST \n",
    "\n",
    "\n",
    "Syntax : equalize_hist(image, nbins=512, mask=1)\n",
    "\n",
    "\n",
    "Parameters :\n",
    "\n",
    "\n",
    "1)image : array\n",
    "\n",
    "\n",
    "2)nbins : int (This represents the Number of bins for image histogram and this argument is ignored for integer images, for which each integer is its own bin )\n",
    "\n",
    "\n",
    "3)mask: array of bools or 0s and 1s (Array of same shape as image.Only points at which mask == True\n",
    "are used for the equalization, which is applied to the whole image)\n",
    "\n",
    "\n",
    "\n",
    "Explanation :\n",
    "\n",
    "\n",
    "Equalize_hist function performs histogram equalization. It enhances the contrast of images by transforming the values in an intensity image so that the histogram of the output image approximately matches a specified histogram (uniform distribution by default). This Histogram Equalization is operated on the entire image."
   ]
  },
  {
   "cell_type": "markdown",
   "metadata": {},
   "source": [
    "# EQUALIZE_ADAPTHIST\n",
    "\n",
    "\n",
    "Syntax : skimage.exposure.equalize_adapthist(image, kernel_size=None, clip_limit=0.05, nbins=512)\n",
    "\n",
    "\n",
    "Parameters :\n",
    "\n",
    "\n",
    "1)image : (M, N, [C]) ndarray\n",
    "\n",
    "\n",
    "2)kernel_size: integer or list-like (It defines the shape of contextual regions used in the algorithm )\n",
    "\n",
    "\n",
    "3)clip_limit : float (Clipping limit, normalized between 0 and 1 (higher values give more contrast))\n",
    "\n",
    "\n",
    "4)nbins : int (Number of gray bins for histogram (“data range”))\n",
    "\n",
    "\n",
    "\n",
    "\n",
    "Explanation :\n",
    "\n",
    "\n",
    "Equalize_adapthist performs contrast-limited adaptive histogram equalization. Unlike histeq, it operates on small data regions (tiles) rather than the entire image. Each tile's contrast is enhanced so that the histogram of each output region approximately matches the specified histogram (uniform distribution by default).\n"
   ]
  },
  {
   "cell_type": "markdown",
   "metadata": {},
   "source": [
    "# Histogram Equalization Vs Adaptive Histogram Equalization\n",
    "\n",
    "\n",
    "\n",
    "The Adaptive Histogram Equalization (AHE) can be useful over Standard Histogram Equalization when there is a need for observing Smaller details in an image.\n",
    "\n",
    "\n",
    "It differs from ordinary histogram equalization in the respect that the adaptive method computes several histograms, each corresponding to a distinct section of the image, and uses them to redistribute the lightness values of the image. It is therefore suitable for improving the local contrast and enhancing the definitions of edges in each region of an image.\n",
    "\n",
    "\n",
    "However, AHE has a tendency to overamplify noise in relatively homogeneous regions of an image.\n",
    "\n",
    "\n",
    "In Anatomy, every detail is important and therefore Adaptive Histogram Equalization is preferred rather than Standard Histogram Equalization."
   ]
  },
  {
   "cell_type": "markdown",
   "metadata": {},
   "source": [
    "# 02 INVESTIGATION ASSIGNMENT"
   ]
  },
  {
   "cell_type": "markdown",
   "metadata": {},
   "source": [
    "# IMAGE ENHANCEMENT TECHNIQUE\n",
    "\n",
    "The principle objective of Image Enhancement Techniques is to process an image so that the result is more suitable than the original image for a specific application.\n",
    "\n",
    "It is the process of adjusting digital images so that the results are more suitable for display or further image analysis. \n",
    "\n",
    "\n",
    "One of the most important stages in medical images detection and analysis is Image Enhancement Techniques.\n",
    "\n",
    "\n",
    "It improves the clarity of images for human viewing, removing blurring and noise, increasing contrast, and revealing details."
   ]
  },
  {
   "cell_type": "markdown",
   "metadata": {},
   "source": [
    "# Decorrelation Stretch\n",
    "\n",
    "\n",
    "Decorrelation Stretch is a type of contrast stretching that results in the artificial enhancement in colour of an image.\n",
    "\n",
    "The spread of multi-spectral data is increased along the natural maximum as identified by principal component analysis.\n",
    "\n",
    "The primary purpose of decorrelation stretch is visual enhancement. Decorrelation stretching is a way to enhance the color differences in an image."
   ]
  },
  {
   "cell_type": "markdown",
   "metadata": {},
   "source": [
    "a)Decorrelation stretching is useful in the Artificial Enhancement of an image\n",
    "\n",
    "\n",
    "Example :\n",
    "\n",
    "Let us consider an original image of a Skull that is dull in black and White.\n",
    "\n",
    "\n",
    "Now ,after Applying the Decorrelation stretching to that orignnal image, the colors of the image are widely Enhanced i.e., the number of Grey Levels are increased and so Higher number of Grey levels gives a Crystal Clear Picture of the Skull , making it easier for a person to Study the Image.\n",
    "\n",
    "\n",
    "\n",
    "b)The function \"decorrstretch(A)\" is the function used in Python for Decorrelation stretching.\n",
    "\n",
    "\n",
    "Syntax :\n",
    "\n",
    "S = decorrstretch(A)  or \n",
    "S = decorrstretch(A,name,value...)\n",
    "\n",
    "\n",
    "\n",
    "Parameters :\n",
    "\n",
    "\n",
    "'S = decorrstretch(A)' applies a decorrelation stretch to an m-by-n-by-n Bands image A and returns the result in S.\n",
    "\n",
    "\n",
    "S - Output Image :\n",
    "\n",
    "S has the same size and class as A, and the mean and variance in each band are the same as in A.\n",
    "\n",
    "\n",
    "\n",
    "A - Image to be Enahanced :\n",
    "\n",
    "Image to be stretched, specified as a nonsparse, real, N-D array. The image A is a multichannel image, such as, an RGB image (nBands = 3) or an image with any number of spectral bands.\n",
    "\n",
    "\n",
    "\n",
    "\n",
    "\n",
    "S = decorrstretch(A,name,value...) applies a decorrelation stretch to the image A, subject to optional control parameters.\n",
    "\n",
    "\n",
    "\n",
    "\n",
    "c)Yes.This technique can be widely applied in the medical Imaging because, Image Enhancement plays a vital role to make it easy for a person to differentiate among different elements in an image,particularly when the image has infinetesimally small elements like that of medical images. \n",
    "\n",
    "\n",
    "\n",
    "\n",
    "\n",
    "d)\"A region based decorrelation stretching method: Application to multispectral chromosome image classification\" \n",
    "   (http://ieeexplore.ieee.org/document/4712040/authors)  by\n",
    "\n",
    "  1)Petros S. Karvelis\n",
    "    Unit of Medical Technology and Intelligent Information Systems, Dept. of Computer Science, University of Ioannina, Greece\n",
    "    \n",
    "    \n",
    "  2)Dimitrios I. Fotiadis\n",
    "    Unit of Medical Technology and Intelligent Information Systems, Dept. of Computer Science, University of Ioannina, Greece"
   ]
  }
 ],
 "metadata": {
  "kernelspec": {
   "display_name": "Python 2",
   "language": "python",
   "name": "python2"
  },
  "language_info": {
   "codemirror_mode": {
    "name": "ipython",
    "version": 2
   },
   "file_extension": ".py",
   "mimetype": "text/x-python",
   "name": "python",
   "nbconvert_exporter": "python",
   "pygments_lexer": "ipython2",
   "version": "2.7.13"
  }
 },
 "nbformat": 4,
 "nbformat_minor": 2
}
